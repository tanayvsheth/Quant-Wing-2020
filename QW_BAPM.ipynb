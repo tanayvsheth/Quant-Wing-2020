{
 "cells": [
  {
   "cell_type": "code",
   "execution_count": 3,
   "metadata": {},
   "outputs": [],
   "source": [
    "import numpy as np\n",
    "from math import exp"
   ]
  },
  {
   "cell_type": "code",
   "execution_count": 9,
   "metadata": {},
   "outputs": [],
   "source": [
    "def price(asset , volatility , intrate, strike , expiry , no_steps):\n",
    "    \n",
    "    time_step = int(expiry/no_steps)\n",
    "    DiscountFactor = exp((-intrate) * time_step)\n",
    "    temp1 = exp((intrate + volatility * volatility) * time_step)\n",
    "    temp2 = 0.5 * (DiscountFactor + temp1)\n",
    "    u = temp2 + np.sqrt(temp2 * temp2 - 1)\n",
    "    d = 1 / u\n",
    "    p = (1 + intrate - d) / (u - d)\n",
    "    q = 1 - p\n",
    "    \n",
    "    # make stock price tree\n",
    "    stock = np.zeros([no_steps + 1, no_steps + 1])\n",
    "    for i in range(no_steps + 1):\n",
    "        for j in range(i + 1):\n",
    "            stock[j, i] = asset * (u ** (i - j)) * (d ** j)\n",
    "\n",
    "    # Generate option prices recursively\n",
    "    option = np.zeros([no_steps + 1, no_steps + 1])\n",
    "    option[:, no_steps] = np.maximum(np.zeros(no_steps + 1), (stock[:, no_steps] - strike))\n",
    "    for i in range(no_steps - 1, -1, -1):\n",
    "        for j in range(0, i + 1):\n",
    "            option[j, i] = (\n",
    "                1 / (1 + intrate) * (p * option[j, i + 1] + q * option[j + 1, i + 1]))\n",
    "    return option"
   ]
  },
  {
   "cell_type": "code",
   "execution_count": 12,
   "metadata": {},
   "outputs": [
    {
     "data": {
      "text/plain": [
       "array([[1.00000000e+002, 7.39810292e+017, 5.47319268e+033,\n",
       "        4.04912427e+049, 2.99558381e+065, 2.21616373e+081,\n",
       "        1.63954074e+097, 1.21294911e+113, 8.97352237e+128],\n",
       "       [0.00000000e+000, 1.35169788e-014, 1.00000000e+002,\n",
       "        7.39810292e+017, 5.47319268e+033, 4.04912427e+049,\n",
       "        2.99558381e+065, 2.21616373e+081, 1.63954074e+097],\n",
       "       [0.00000000e+000, 0.00000000e+000, 1.82708715e-030,\n",
       "        1.35169788e-014, 1.00000000e+002, 7.39810292e+017,\n",
       "        5.47319268e+033, 4.04912427e+049, 2.99558381e+065],\n",
       "       [0.00000000e+000, 0.00000000e+000, 0.00000000e+000,\n",
       "        2.46966982e-046, 1.82708715e-030, 1.35169788e-014,\n",
       "        1.00000000e+002, 7.39810292e+017, 5.47319268e+033],\n",
       "       [0.00000000e+000, 0.00000000e+000, 0.00000000e+000,\n",
       "        0.00000000e+000, 0.00000000e+000, 0.00000000e+000,\n",
       "        0.00000000e+000, 0.00000000e+000, 0.00000000e+000],\n",
       "       [0.00000000e+000, 0.00000000e+000, 0.00000000e+000,\n",
       "        0.00000000e+000, 0.00000000e+000, 0.00000000e+000,\n",
       "        0.00000000e+000, 0.00000000e+000, 0.00000000e+000],\n",
       "       [0.00000000e+000, 0.00000000e+000, 0.00000000e+000,\n",
       "        0.00000000e+000, 0.00000000e+000, 0.00000000e+000,\n",
       "        0.00000000e+000, 0.00000000e+000, 0.00000000e+000],\n",
       "       [0.00000000e+000, 0.00000000e+000, 0.00000000e+000,\n",
       "        0.00000000e+000, 0.00000000e+000, 0.00000000e+000,\n",
       "        0.00000000e+000, 0.00000000e+000, 0.00000000e+000],\n",
       "       [0.00000000e+000, 0.00000000e+000, 0.00000000e+000,\n",
       "        0.00000000e+000, 0.00000000e+000, 0.00000000e+000,\n",
       "        0.00000000e+000, 0.00000000e+000, 0.00000000e+000]])"
      ]
     },
     "execution_count": 12,
     "metadata": {},
     "output_type": "execute_result"
    }
   ],
   "source": [
    "price(100 , 0.3 , 6, 110 , 50 , 8)"
   ]
  },
  {
   "cell_type": "code",
   "execution_count": null,
   "metadata": {},
   "outputs": [],
   "source": []
  }
 ],
 "metadata": {
  "kernelspec": {
   "display_name": "Python 3",
   "language": "python",
   "name": "python3"
  }
 },
 "nbformat": 4,
 "nbformat_minor": 2
}
